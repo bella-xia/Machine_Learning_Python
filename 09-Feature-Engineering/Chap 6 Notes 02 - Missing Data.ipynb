{
 "cells": [
  {
   "cell_type": "code",
   "execution_count": 1,
   "id": "37684bc5",
   "metadata": {},
   "outputs": [],
   "source": [
    "import numpy as np\n",
    "import pandas as pd\n",
    "import matplotlib.pyplot as plt\n",
    "import seaborn as sns"
   ]
  },
  {
   "cell_type": "code",
   "execution_count": 3,
   "id": "595c8df7",
   "metadata": {},
   "outputs": [
    {
     "name": "stdout",
     "output_type": "stream",
     "text": [
      "MSSubClass: Identifies the type of dwelling involved in the sale.\t\n",
      "\n",
      "        20\t1-STORY 1946 & NEWER ALL STYLES\n",
      "        30\t1-STORY 1945 & OLDER\n",
      "        40\t1-STORY W/FINISHED ATTIC ALL AGES\n",
      "        45\t1-1/2 STORY - UNFINISHED ALL AGES\n",
      "        50\t1-1/2 STORY FINISHED ALL AGES\n",
      "        60\t2-STORY 1946 & NEWER\n",
      "        70\t2-STORY 1945 & OLDER\n",
      "        75\t2-1/2 STORY ALL AGES\n",
      "        80\tSPLIT OR MULTI-LEVEL\n",
      "        85\tSPLIT FOYER\n",
      "        90\tDUPLEX - ALL STYLES AND AGES\n",
      "       120\t1-STORY PUD (Planned Unit Development) - 1946 & NEWER\n",
      "       150\t1-1/2 STORY PUD - ALL AGES\n",
      "       160\t2-STORY PUD - 1946 & NEWER\n",
      "       180\tPUD - MULTILEVEL - INCL SPLIT LEV/FOYER\n",
      "       190\t2 FAMILY CONVERSION - ALL STYLES AND AGES\n",
      "\n",
      "MSZoning: Identifies the general zoning classification of the sale.\n",
      "\t\t\n",
      "       A\tAgriculture\n",
      "       C\tCommercial\n",
      "       FV\tFloating Village Residential\n",
      "       I\tIndustrial\n",
      "       RH\tResidential High Density\n",
      "       RL\tResidential Low Density\n",
      "       RP\tResidential Low Density Park \n",
      "       RM\tResidential Medium Density\n",
      "\t\n",
      "LotFrontage: Linear feet of street connected to property\n",
      "\n",
      "LotArea: Lot size in square feet\n",
      "\n",
      "Street: Type of road access to property\n",
      "\n",
      "       Grvl\tGravel\t\n",
      "       Pave\tPaved\n",
      "       \t\n",
      "Alley: Type of alley access to property\n",
      "\n",
      "       Grvl\tGravel\n",
      "       Pave\tPaved\n",
      "       NA \tNo alley access\n",
      "\t\t\n",
      "LotShape: General shape of property\n",
      "\n",
      "       Reg\tRegular\t\n",
      "       IR1\tSlightly irregular\n",
      "       IR2\tModerately Irregular\n",
      "       IR3\tIrregular\n",
      "       \n",
      "LandContour: Flatness of the property\n",
      "\n",
      "       Lvl\tNear Flat/Level\t\n",
      "       Bnk\tBanked - Quick and significant rise from street grade to building\n",
      "       HLS\tHillside - Significant slope from side to side\n",
      "       Low\tDepression\n",
      "\t\t\n",
      "Utilities: Type of utilities available\n",
      "\t\t\n",
      "       AllPub\tAll public Utilities (E,G,W,& S)\t\n",
      "       NoSewr\tElectricity, Gas, and Water (Septic Tank)\n",
      "       NoSeWa\tElectricity and Gas Only\n",
      "       ELO\tElectricity only\t\n",
      "\t\n",
      "LotConfig: Lot configuration\n",
      "\n",
      "       Inside\tInside lot\n",
      "       Corner\tCorner lot\n",
      "       CulDSac\tCul-de-sac\n",
      "       FR2\tFrontage on 2 sides of property\n",
      "       FR3\tFrontage on 3 sides of property\n",
      "\t\n",
      "LandSlope: Slope of property\n",
      "\t\t\n",
      "       Gtl\tGentle slope\n",
      "       Mod\tModerate Slope\t\n",
      "       Sev\tSevere Slope\n",
      "\t\n",
      "Neighborhood: Physical locations within Ames city limits\n",
      "\n",
      "       Blmngtn\tBloomington Heights\n",
      "       Blueste\tBluestem\n",
      "       BrDale\tBriardale\n",
      "       BrkSide\tBrookside\n",
      "       ClearCr\tClear Creek\n",
      "       CollgCr\tCollege Creek\n",
      "       Crawfor\tCrawford\n",
      "       Edwards\tEdwards\n",
      "       Gilbert\tGilbert\n",
      "       IDOTRR\tIowa DOT and Rail Road\n",
      "       MeadowV\tMeadow Village\n",
      "       Mitchel\tMitchell\n",
      "       Names\tNorth Ames\n",
      "       NoRidge\tNorthridge\n",
      "       NPkVill\tNorthpark Villa\n",
      "       NridgHt\tNorthridge Heights\n",
      "       NWAmes\tNorthwest Ames\n",
      "       OldTown\tOld Town\n",
      "       SWISU\tSouth & West of Iowa State University\n",
      "       Sawyer\tSawyer\n",
      "       SawyerW\tSawyer West\n",
      "       Somerst\tSomerset\n",
      "       StoneBr\tStone Brook\n",
      "       Timber\tTimberland\n",
      "       Veenker\tVeenker\n",
      "\t\t\t\n",
      "Condition1: Proximity to various conditions\n",
      "\t\n",
      "       Artery\tAdjacent to arterial street\n",
      "       Feedr\tAdjacent to feeder street\t\n",
      "       Norm\tNormal\t\n",
      "       RRNn\tWithin 200' of North-South Railroad\n",
      "       RRAn\tAdjacent to North-South Railroad\n",
      "       PosN\tNear positive off-site feature--park, greenbelt, etc.\n",
      "       PosA\tAdjacent to postive off-site feature\n",
      "       RRNe\tWithin 200' of East-West Railroad\n",
      "       RRAe\tAdjacent to East-West Railroad\n",
      "\t\n",
      "Condition2: Proximity to various conditions (if more than one is present)\n",
      "\t\t\n",
      "       Artery\tAdjacent to arterial street\n",
      "       Feedr\tAdjacent to feeder street\t\n",
      "       Norm\tNormal\t\n",
      "       RRNn\tWithin 200' of North-South Railroad\n",
      "       RRAn\tAdjacent to North-South Railroad\n",
      "       PosN\tNear positive off-site feature--park, greenbelt, etc.\n",
      "       PosA\tAdjacent to postive off-site feature\n",
      "       RRNe\tWithin 200' of East-West Railroad\n",
      "       RRAe\tAdjacent to East-West Railroad\n",
      "\t\n",
      "BldgType: Type of dwelling\n",
      "\t\t\n",
      "       1Fam\tSingle-family Detached\t\n",
      "       2FmCon\tTwo-family Conversion; originally built as one-family dwelling\n",
      "       Duplx\tDuplex\n",
      "       TwnhsE\tTownhouse End Unit\n",
      "       TwnhsI\tTownhouse Inside Unit\n",
      "\t\n",
      "HouseStyle: Style of dwelling\n",
      "\t\n",
      "       1Story\tOne story\n",
      "       1.5Fin\tOne and one-half story: 2nd level finished\n",
      "       1.5Unf\tOne and one-half story: 2nd level unfinished\n",
      "       2Story\tTwo story\n",
      "       2.5Fin\tTwo and one-half story: 2nd level finished\n",
      "       2.5Unf\tTwo and one-half story: 2nd level unfinished\n",
      "       SFoyer\tSplit Foyer\n",
      "       SLvl\tSplit Level\n",
      "\t\n",
      "OverallQual: Rates the overall material and finish of the house\n",
      "\n",
      "       10\tVery Excellent\n",
      "       9\tExcellent\n",
      "       8\tVery Good\n",
      "       7\tGood\n",
      "       6\tAbove Average\n",
      "       5\tAverage\n",
      "       4\tBelow Average\n",
      "       3\tFair\n",
      "       2\tPoor\n",
      "       1\tVery Poor\n",
      "\t\n",
      "OverallCond: Rates the overall condition of the house\n",
      "\n",
      "       10\tVery Excellent\n",
      "       9\tExcellent\n",
      "       8\tVery Good\n",
      "       7\tGood\n",
      "       6\tAbove Average\t\n",
      "       5\tAverage\n",
      "       4\tBelow Average\t\n",
      "       3\tFair\n",
      "       2\tPoor\n",
      "       1\tVery Poor\n",
      "\t\t\n",
      "YearBuilt: Original construction date\n",
      "\n",
      "YearRemodAdd: Remodel date (same as construction date if no remodeling or additions)\n",
      "\n",
      "RoofStyle: Type of roof\n",
      "\n",
      "       Flat\tFlat\n",
      "       Gable\tGable\n",
      "       Gambrel\tGabrel (Barn)\n",
      "       Hip\tHip\n",
      "       Mansard\tMansard\n",
      "       Shed\tShed\n",
      "\t\t\n",
      "RoofMatl: Roof material\n",
      "\n",
      "       ClyTile\tClay or Tile\n",
      "       CompShg\tStandard (Composite) Shingle\n",
      "       Membran\tMembrane\n",
      "       Metal\tMetal\n",
      "       Roll\tRoll\n",
      "       Tar&Grv\tGravel & Tar\n",
      "       WdShake\tWood Shakes\n",
      "       WdShngl\tWood Shingles\n",
      "\t\t\n",
      "Exterior1st: Exterior covering on house\n",
      "\n",
      "       AsbShng\tAsbestos Shingles\n",
      "       AsphShn\tAsphalt Shingles\n",
      "       BrkComm\tBrick Common\n",
      "       BrkFace\tBrick Face\n",
      "       CBlock\tCinder Block\n",
      "       CemntBd\tCement Board\n",
      "       HdBoard\tHard Board\n",
      "       ImStucc\tImitation Stucco\n",
      "       MetalSd\tMetal Siding\n",
      "       Other\tOther\n",
      "       Plywood\tPlywood\n",
      "       PreCast\tPreCast\t\n",
      "       Stone\tStone\n",
      "       Stucco\tStucco\n",
      "       VinylSd\tVinyl Siding\n",
      "       Wd Sdng\tWood Siding\n",
      "       WdShing\tWood Shingles\n",
      "\t\n",
      "Exterior2nd: Exterior covering on house (if more than one material)\n",
      "\n",
      "       AsbShng\tAsbestos Shingles\n",
      "       AsphShn\tAsphalt Shingles\n",
      "       BrkComm\tBrick Common\n",
      "       BrkFace\tBrick Face\n",
      "       CBlock\tCinder Block\n",
      "       CemntBd\tCement Board\n",
      "       HdBoard\tHard Board\n",
      "       ImStucc\tImitation Stucco\n",
      "       MetalSd\tMetal Siding\n",
      "       Other\tOther\n",
      "       Plywood\tPlywood\n",
      "       PreCast\tPreCast\n",
      "       Stone\tStone\n",
      "       Stucco\tStucco\n",
      "       VinylSd\tVinyl Siding\n",
      "       Wd Sdng\tWood Siding\n",
      "       WdShing\tWood Shingles\n",
      "\t\n",
      "MasVnrType: Masonry veneer type\n",
      "\n",
      "       BrkCmn\tBrick Common\n",
      "       BrkFace\tBrick Face\n",
      "       CBlock\tCinder Block\n",
      "       None\tNone\n",
      "       Stone\tStone\n",
      "\t\n",
      "MasVnrArea: Masonry veneer area in square feet\n",
      "\n",
      "ExterQual: Evaluates the quality of the material on the exterior \n",
      "\t\t\n",
      "       Ex\tExcellent\n",
      "       Gd\tGood\n",
      "       TA\tAverage/Typical\n",
      "       Fa\tFair\n",
      "       Po\tPoor\n",
      "\t\t\n",
      "ExterCond: Evaluates the present condition of the material on the exterior\n",
      "\t\t\n",
      "       Ex\tExcellent\n",
      "       Gd\tGood\n",
      "       TA\tAverage/Typical\n",
      "       Fa\tFair\n",
      "       Po\tPoor\n",
      "\t\t\n",
      "Foundation: Type of foundation\n",
      "\t\t\n",
      "       BrkTil\tBrick & Tile\n",
      "       CBlock\tCinder Block\n",
      "       PConc\tPoured Contrete\t\n",
      "       Slab\tSlab\n",
      "       Stone\tStone\n",
      "       Wood\tWood\n",
      "\t\t\n",
      "BsmtQual: Evaluates the height of the basement\n",
      "\n",
      "       Ex\tExcellent (100+ inches)\t\n",
      "       Gd\tGood (90-99 inches)\n",
      "       TA\tTypical (80-89 inches)\n",
      "       Fa\tFair (70-79 inches)\n",
      "       Po\tPoor (<70 inches\n",
      "       NA\tNo Basement\n",
      "\t\t\n",
      "BsmtCond: Evaluates the general condition of the basement\n",
      "\n",
      "       Ex\tExcellent\n",
      "       Gd\tGood\n",
      "       TA\tTypical - slight dampness allowed\n",
      "       Fa\tFair - dampness or some cracking or settling\n",
      "       Po\tPoor - Severe cracking, settling, or wetness\n",
      "       NA\tNo Basement\n",
      "\t\n",
      "BsmtExposure: Refers to walkout or garden level walls\n",
      "\n",
      "       Gd\tGood Exposure\n",
      "       Av\tAverage Exposure (split levels or foyers typically score average or above)\t\n",
      "       Mn\tMimimum Exposure\n",
      "       No\tNo Exposure\n",
      "       NA\tNo Basement\n",
      "\t\n",
      "BsmtFinType1: Rating of basement finished area\n",
      "\n",
      "       GLQ\tGood Living Quarters\n",
      "       ALQ\tAverage Living Quarters\n",
      "       BLQ\tBelow Average Living Quarters\t\n",
      "       Rec\tAverage Rec Room\n",
      "       LwQ\tLow Quality\n",
      "       Unf\tUnfinshed\n",
      "       NA\tNo Basement\n",
      "\t\t\n",
      "BsmtFinSF1: Type 1 finished square feet\n",
      "\n",
      "BsmtFinType2: Rating of basement finished area (if multiple types)\n",
      "\n",
      "       GLQ\tGood Living Quarters\n",
      "       ALQ\tAverage Living Quarters\n",
      "       BLQ\tBelow Average Living Quarters\t\n",
      "       Rec\tAverage Rec Room\n",
      "       LwQ\tLow Quality\n",
      "       Unf\tUnfinshed\n",
      "       NA\tNo Basement\n",
      "\n",
      "BsmtFinSF2: Type 2 finished square feet\n",
      "\n",
      "BsmtUnfSF: Unfinished square feet of basement area\n",
      "\n",
      "TotalBsmtSF: Total square feet of basement area\n",
      "\n",
      "Heating: Type of heating\n",
      "\t\t\n",
      "       Floor\tFloor Furnace\n",
      "       GasA\tGas forced warm air furnace\n",
      "       GasW\tGas hot water or steam heat\n",
      "       Grav\tGravity furnace\t\n",
      "       OthW\tHot water or steam heat other than gas\n",
      "       Wall\tWall furnace\n",
      "\t\t\n",
      "HeatingQC: Heating quality and condition\n",
      "\n",
      "       Ex\tExcellent\n",
      "       Gd\tGood\n",
      "       TA\tAverage/Typical\n",
      "       Fa\tFair\n",
      "       Po\tPoor\n",
      "\t\t\n",
      "CentralAir: Central air conditioning\n",
      "\n",
      "       N\tNo\n",
      "       Y\tYes\n",
      "\t\t\n",
      "Electrical: Electrical system\n",
      "\n",
      "       SBrkr\tStandard Circuit Breakers & Romex\n",
      "       FuseA\tFuse Box over 60 AMP and all Romex wiring (Average)\t\n",
      "       FuseF\t60 AMP Fuse Box and mostly Romex wiring (Fair)\n",
      "       FuseP\t60 AMP Fuse Box and mostly knob & tube wiring (poor)\n",
      "       Mix\tMixed\n",
      "\t\t\n",
      "1stFlrSF: First Floor square feet\n",
      " \n",
      "2ndFlrSF: Second floor square feet\n",
      "\n",
      "LowQualFinSF: Low quality finished square feet (all floors)\n",
      "\n",
      "GrLivArea: Above grade (ground) living area square feet\n",
      "\n",
      "BsmtFullBath: Basement full bathrooms\n",
      "\n",
      "BsmtHalfBath: Basement half bathrooms\n",
      "\n",
      "FullBath: Full bathrooms above grade\n",
      "\n",
      "HalfBath: Half baths above grade\n",
      "\n",
      "Bedroom: Bedrooms above grade (does NOT include basement bedrooms)\n",
      "\n",
      "Kitchen: Kitchens above grade\n",
      "\n",
      "KitchenQual: Kitchen quality\n",
      "\n",
      "       Ex\tExcellent\n",
      "       Gd\tGood\n",
      "       TA\tTypical/Average\n",
      "       Fa\tFair\n",
      "       Po\tPoor\n",
      "       \t\n",
      "TotRmsAbvGrd: Total rooms above grade (does not include bathrooms)\n",
      "\n",
      "Functional: Home functionality (Assume typical unless deductions are warranted)\n",
      "\n",
      "       Typ\tTypical Functionality\n",
      "       Min1\tMinor Deductions 1\n",
      "       Min2\tMinor Deductions 2\n",
      "       Mod\tModerate Deductions\n",
      "       Maj1\tMajor Deductions 1\n",
      "       Maj2\tMajor Deductions 2\n",
      "       Sev\tSeverely Damaged\n",
      "       Sal\tSalvage only\n",
      "\t\t\n",
      "Fireplaces: Number of fireplaces\n",
      "\n",
      "FireplaceQu: Fireplace quality\n",
      "\n",
      "       Ex\tExcellent - Exceptional Masonry Fireplace\n",
      "       Gd\tGood - Masonry Fireplace in main level\n",
      "       TA\tAverage - Prefabricated Fireplace in main living area or Masonry Fireplace in basement\n",
      "       Fa\tFair - Prefabricated Fireplace in basement\n",
      "       Po\tPoor - Ben Franklin Stove\n",
      "       NA\tNo Fireplace\n",
      "\t\t\n",
      "GarageType: Garage location\n",
      "\t\t\n",
      "       2Types\tMore than one type of garage\n",
      "       Attchd\tAttached to home\n",
      "       Basment\tBasement Garage\n",
      "       BuiltIn\tBuilt-In (Garage part of house - typically has room above garage)\n",
      "       CarPort\tCar Port\n",
      "       Detchd\tDetached from home\n",
      "       NA\tNo Garage\n",
      "\t\t\n",
      "GarageYrBlt: Year garage was built\n",
      "\t\t\n",
      "GarageFinish: Interior finish of the garage\n",
      "\n",
      "       Fin\tFinished\n",
      "       RFn\tRough Finished\t\n",
      "       Unf\tUnfinished\n",
      "       NA\tNo Garage\n",
      "\t\t\n",
      "GarageCars: Size of garage in car capacity\n",
      "\n",
      "GarageArea: Size of garage in square feet\n",
      "\n",
      "GarageQual: Garage quality\n",
      "\n",
      "       Ex\tExcellent\n",
      "       Gd\tGood\n",
      "       TA\tTypical/Average\n",
      "       Fa\tFair\n",
      "       Po\tPoor\n",
      "       NA\tNo Garage\n",
      "\t\t\n",
      "GarageCond: Garage condition\n",
      "\n",
      "       Ex\tExcellent\n",
      "       Gd\tGood\n",
      "       TA\tTypical/Average\n",
      "       Fa\tFair\n",
      "       Po\tPoor\n",
      "       NA\tNo Garage\n",
      "\t\t\n",
      "PavedDrive: Paved driveway\n",
      "\n",
      "       Y\tPaved \n",
      "       P\tPartial Pavement\n",
      "       N\tDirt/Gravel\n",
      "\t\t\n",
      "WoodDeckSF: Wood deck area in square feet\n",
      "\n",
      "OpenPorchSF: Open porch area in square feet\n",
      "\n",
      "EnclosedPorch: Enclosed porch area in square feet\n",
      "\n",
      "3SsnPorch: Three season porch area in square feet\n",
      "\n",
      "ScreenPorch: Screen porch area in square feet\n",
      "\n",
      "PoolArea: Pool area in square feet\n",
      "\n",
      "PoolQC: Pool quality\n",
      "\t\t\n",
      "       Ex\tExcellent\n",
      "       Gd\tGood\n",
      "       TA\tAverage/Typical\n",
      "       Fa\tFair\n",
      "       NA\tNo Pool\n",
      "\t\t\n",
      "Fence: Fence quality\n",
      "\t\t\n",
      "       GdPrv\tGood Privacy\n",
      "       MnPrv\tMinimum Privacy\n",
      "       GdWo\tGood Wood\n",
      "       MnWw\tMinimum Wood/Wire\n",
      "       NA\tNo Fence\n",
      "\t\n",
      "MiscFeature: Miscellaneous feature not covered in other categories\n",
      "\t\t\n",
      "       Elev\tElevator\n",
      "       Gar2\t2nd Garage (if not described in garage section)\n",
      "       Othr\tOther\n",
      "       Shed\tShed (over 100 SF)\n",
      "       TenC\tTennis Court\n",
      "       NA\tNone\n",
      "\t\t\n",
      "MiscVal: $Value of miscellaneous feature\n",
      "\n",
      "MoSold: Month Sold (MM)\n",
      "\n",
      "YrSold: Year Sold (YYYY)\n",
      "\n",
      "SaleType: Type of sale\n",
      "\t\t\n",
      "       WD \tWarranty Deed - Conventional\n",
      "       CWD\tWarranty Deed - Cash\n",
      "       VWD\tWarranty Deed - VA Loan\n",
      "       New\tHome just constructed and sold\n",
      "       COD\tCourt Officer Deed/Estate\n",
      "       Con\tContract 15% Down payment regular terms\n",
      "       ConLw\tContract Low Down payment and low interest\n",
      "       ConLI\tContract Low Interest\n",
      "       ConLD\tContract Low Down\n",
      "       Oth\tOther\n",
      "\t\t\n",
      "SaleCondition: Condition of sale\n",
      "\n",
      "       Normal\tNormal Sale\n",
      "       Abnorml\tAbnormal Sale -  trade, foreclosure, short sale\n",
      "       AdjLand\tAdjoining Land Purchase\n",
      "       Alloca\tAllocation - two linked properties with separate deeds, typically condo with a garage unit\t\n",
      "       Family\tSale between family members\n",
      "       Partial\tHome was not completed when last assessed (associated with New Homes)\n",
      "\n"
     ]
    }
   ],
   "source": [
    "with open('../DATA/Ames_Housing_Feature_Description.txt') as f:\n",
    "    print(f.read())"
   ]
  },
  {
   "cell_type": "code",
   "execution_count": 4,
   "id": "88792b42",
   "metadata": {},
   "outputs": [],
   "source": [
    "df = pd.read_csv('../DATA/Ames_outliers_removed.csv')"
   ]
  },
  {
   "cell_type": "code",
   "execution_count": 5,
   "id": "6dd780f3",
   "metadata": {},
   "outputs": [
    {
     "name": "stdout",
     "output_type": "stream",
     "text": [
      "<class 'pandas.core.frame.DataFrame'>\n",
      "RangeIndex: 2927 entries, 0 to 2926\n",
      "Data columns (total 81 columns):\n",
      " #   Column           Non-Null Count  Dtype  \n",
      "---  ------           --------------  -----  \n",
      " 0   PID              2927 non-null   int64  \n",
      " 1   MS SubClass      2927 non-null   int64  \n",
      " 2   MS Zoning        2927 non-null   object \n",
      " 3   Lot Frontage     2437 non-null   float64\n",
      " 4   Lot Area         2927 non-null   int64  \n",
      " 5   Street           2927 non-null   object \n",
      " 6   Alley            198 non-null    object \n",
      " 7   Lot Shape        2927 non-null   object \n",
      " 8   Land Contour     2927 non-null   object \n",
      " 9   Utilities        2927 non-null   object \n",
      " 10  Lot Config       2927 non-null   object \n",
      " 11  Land Slope       2927 non-null   object \n",
      " 12  Neighborhood     2927 non-null   object \n",
      " 13  Condition 1      2927 non-null   object \n",
      " 14  Condition 2      2927 non-null   object \n",
      " 15  Bldg Type        2927 non-null   object \n",
      " 16  House Style      2927 non-null   object \n",
      " 17  Overall Qual     2927 non-null   int64  \n",
      " 18  Overall Cond     2927 non-null   int64  \n",
      " 19  Year Built       2927 non-null   int64  \n",
      " 20  Year Remod/Add   2927 non-null   int64  \n",
      " 21  Roof Style       2927 non-null   object \n",
      " 22  Roof Matl        2927 non-null   object \n",
      " 23  Exterior 1st     2927 non-null   object \n",
      " 24  Exterior 2nd     2927 non-null   object \n",
      " 25  Mas Vnr Type     2904 non-null   object \n",
      " 26  Mas Vnr Area     2904 non-null   float64\n",
      " 27  Exter Qual       2927 non-null   object \n",
      " 28  Exter Cond       2927 non-null   object \n",
      " 29  Foundation       2927 non-null   object \n",
      " 30  Bsmt Qual        2847 non-null   object \n",
      " 31  Bsmt Cond        2847 non-null   object \n",
      " 32  Bsmt Exposure    2844 non-null   object \n",
      " 33  BsmtFin Type 1   2847 non-null   object \n",
      " 34  BsmtFin SF 1     2926 non-null   float64\n",
      " 35  BsmtFin Type 2   2846 non-null   object \n",
      " 36  BsmtFin SF 2     2926 non-null   float64\n",
      " 37  Bsmt Unf SF      2926 non-null   float64\n",
      " 38  Total Bsmt SF    2926 non-null   float64\n",
      " 39  Heating          2927 non-null   object \n",
      " 40  Heating QC       2927 non-null   object \n",
      " 41  Central Air      2927 non-null   object \n",
      " 42  Electrical       2926 non-null   object \n",
      " 43  1st Flr SF       2927 non-null   int64  \n",
      " 44  2nd Flr SF       2927 non-null   int64  \n",
      " 45  Low Qual Fin SF  2927 non-null   int64  \n",
      " 46  Gr Liv Area      2927 non-null   int64  \n",
      " 47  Bsmt Full Bath   2925 non-null   float64\n",
      " 48  Bsmt Half Bath   2925 non-null   float64\n",
      " 49  Full Bath        2927 non-null   int64  \n",
      " 50  Half Bath        2927 non-null   int64  \n",
      " 51  Bedroom AbvGr    2927 non-null   int64  \n",
      " 52  Kitchen AbvGr    2927 non-null   int64  \n",
      " 53  Kitchen Qual     2927 non-null   object \n",
      " 54  TotRms AbvGrd    2927 non-null   int64  \n",
      " 55  Functional       2927 non-null   object \n",
      " 56  Fireplaces       2927 non-null   int64  \n",
      " 57  Fireplace Qu     1505 non-null   object \n",
      " 58  Garage Type      2770 non-null   object \n",
      " 59  Garage Yr Blt    2768 non-null   float64\n",
      " 60  Garage Finish    2768 non-null   object \n",
      " 61  Garage Cars      2926 non-null   float64\n",
      " 62  Garage Area      2926 non-null   float64\n",
      " 63  Garage Qual      2768 non-null   object \n",
      " 64  Garage Cond      2768 non-null   object \n",
      " 65  Paved Drive      2927 non-null   object \n",
      " 66  Wood Deck SF     2927 non-null   int64  \n",
      " 67  Open Porch SF    2927 non-null   int64  \n",
      " 68  Enclosed Porch   2927 non-null   int64  \n",
      " 69  3Ssn Porch       2927 non-null   int64  \n",
      " 70  Screen Porch     2927 non-null   int64  \n",
      " 71  Pool Area        2927 non-null   int64  \n",
      " 72  Pool QC          12 non-null     object \n",
      " 73  Fence            572 non-null    object \n",
      " 74  Misc Feature     105 non-null    object \n",
      " 75  Misc Val         2927 non-null   int64  \n",
      " 76  Mo Sold          2927 non-null   int64  \n",
      " 77  Yr Sold          2927 non-null   int64  \n",
      " 78  Sale Type        2927 non-null   object \n",
      " 79  Sale Condition   2927 non-null   object \n",
      " 80  SalePrice        2927 non-null   int64  \n",
      "dtypes: float64(11), int64(27), object(43)\n",
      "memory usage: 1.8+ MB\n"
     ]
    }
   ],
   "source": [
    "df.info()"
   ]
  },
  {
   "cell_type": "code",
   "execution_count": 6,
   "id": "8c74561e",
   "metadata": {},
   "outputs": [
    {
     "data": {
      "text/html": [
       "<div>\n",
       "<style scoped>\n",
       "    .dataframe tbody tr th:only-of-type {\n",
       "        vertical-align: middle;\n",
       "    }\n",
       "\n",
       "    .dataframe tbody tr th {\n",
       "        vertical-align: top;\n",
       "    }\n",
       "\n",
       "    .dataframe thead th {\n",
       "        text-align: right;\n",
       "    }\n",
       "</style>\n",
       "<table border=\"1\" class=\"dataframe\">\n",
       "  <thead>\n",
       "    <tr style=\"text-align: right;\">\n",
       "      <th></th>\n",
       "      <th>PID</th>\n",
       "      <th>MS SubClass</th>\n",
       "      <th>MS Zoning</th>\n",
       "      <th>Lot Frontage</th>\n",
       "      <th>Lot Area</th>\n",
       "      <th>Street</th>\n",
       "      <th>Alley</th>\n",
       "      <th>Lot Shape</th>\n",
       "      <th>Land Contour</th>\n",
       "      <th>Utilities</th>\n",
       "      <th>...</th>\n",
       "      <th>Pool Area</th>\n",
       "      <th>Pool QC</th>\n",
       "      <th>Fence</th>\n",
       "      <th>Misc Feature</th>\n",
       "      <th>Misc Val</th>\n",
       "      <th>Mo Sold</th>\n",
       "      <th>Yr Sold</th>\n",
       "      <th>Sale Type</th>\n",
       "      <th>Sale Condition</th>\n",
       "      <th>SalePrice</th>\n",
       "    </tr>\n",
       "  </thead>\n",
       "  <tbody>\n",
       "    <tr>\n",
       "      <th>0</th>\n",
       "      <td>526301100</td>\n",
       "      <td>20</td>\n",
       "      <td>RL</td>\n",
       "      <td>141.0</td>\n",
       "      <td>31770</td>\n",
       "      <td>Pave</td>\n",
       "      <td>NaN</td>\n",
       "      <td>IR1</td>\n",
       "      <td>Lvl</td>\n",
       "      <td>AllPub</td>\n",
       "      <td>...</td>\n",
       "      <td>0</td>\n",
       "      <td>NaN</td>\n",
       "      <td>NaN</td>\n",
       "      <td>NaN</td>\n",
       "      <td>0</td>\n",
       "      <td>5</td>\n",
       "      <td>2010</td>\n",
       "      <td>WD</td>\n",
       "      <td>Normal</td>\n",
       "      <td>215000</td>\n",
       "    </tr>\n",
       "    <tr>\n",
       "      <th>1</th>\n",
       "      <td>526350040</td>\n",
       "      <td>20</td>\n",
       "      <td>RH</td>\n",
       "      <td>80.0</td>\n",
       "      <td>11622</td>\n",
       "      <td>Pave</td>\n",
       "      <td>NaN</td>\n",
       "      <td>Reg</td>\n",
       "      <td>Lvl</td>\n",
       "      <td>AllPub</td>\n",
       "      <td>...</td>\n",
       "      <td>0</td>\n",
       "      <td>NaN</td>\n",
       "      <td>MnPrv</td>\n",
       "      <td>NaN</td>\n",
       "      <td>0</td>\n",
       "      <td>6</td>\n",
       "      <td>2010</td>\n",
       "      <td>WD</td>\n",
       "      <td>Normal</td>\n",
       "      <td>105000</td>\n",
       "    </tr>\n",
       "    <tr>\n",
       "      <th>2</th>\n",
       "      <td>526351010</td>\n",
       "      <td>20</td>\n",
       "      <td>RL</td>\n",
       "      <td>81.0</td>\n",
       "      <td>14267</td>\n",
       "      <td>Pave</td>\n",
       "      <td>NaN</td>\n",
       "      <td>IR1</td>\n",
       "      <td>Lvl</td>\n",
       "      <td>AllPub</td>\n",
       "      <td>...</td>\n",
       "      <td>0</td>\n",
       "      <td>NaN</td>\n",
       "      <td>NaN</td>\n",
       "      <td>Gar2</td>\n",
       "      <td>12500</td>\n",
       "      <td>6</td>\n",
       "      <td>2010</td>\n",
       "      <td>WD</td>\n",
       "      <td>Normal</td>\n",
       "      <td>172000</td>\n",
       "    </tr>\n",
       "    <tr>\n",
       "      <th>3</th>\n",
       "      <td>526353030</td>\n",
       "      <td>20</td>\n",
       "      <td>RL</td>\n",
       "      <td>93.0</td>\n",
       "      <td>11160</td>\n",
       "      <td>Pave</td>\n",
       "      <td>NaN</td>\n",
       "      <td>Reg</td>\n",
       "      <td>Lvl</td>\n",
       "      <td>AllPub</td>\n",
       "      <td>...</td>\n",
       "      <td>0</td>\n",
       "      <td>NaN</td>\n",
       "      <td>NaN</td>\n",
       "      <td>NaN</td>\n",
       "      <td>0</td>\n",
       "      <td>4</td>\n",
       "      <td>2010</td>\n",
       "      <td>WD</td>\n",
       "      <td>Normal</td>\n",
       "      <td>244000</td>\n",
       "    </tr>\n",
       "    <tr>\n",
       "      <th>4</th>\n",
       "      <td>527105010</td>\n",
       "      <td>60</td>\n",
       "      <td>RL</td>\n",
       "      <td>74.0</td>\n",
       "      <td>13830</td>\n",
       "      <td>Pave</td>\n",
       "      <td>NaN</td>\n",
       "      <td>IR1</td>\n",
       "      <td>Lvl</td>\n",
       "      <td>AllPub</td>\n",
       "      <td>...</td>\n",
       "      <td>0</td>\n",
       "      <td>NaN</td>\n",
       "      <td>MnPrv</td>\n",
       "      <td>NaN</td>\n",
       "      <td>0</td>\n",
       "      <td>3</td>\n",
       "      <td>2010</td>\n",
       "      <td>WD</td>\n",
       "      <td>Normal</td>\n",
       "      <td>189900</td>\n",
       "    </tr>\n",
       "  </tbody>\n",
       "</table>\n",
       "<p>5 rows × 81 columns</p>\n",
       "</div>"
      ],
      "text/plain": [
       "         PID  MS SubClass MS Zoning  Lot Frontage  Lot Area Street Alley  \\\n",
       "0  526301100           20        RL         141.0     31770   Pave   NaN   \n",
       "1  526350040           20        RH          80.0     11622   Pave   NaN   \n",
       "2  526351010           20        RL          81.0     14267   Pave   NaN   \n",
       "3  526353030           20        RL          93.0     11160   Pave   NaN   \n",
       "4  527105010           60        RL          74.0     13830   Pave   NaN   \n",
       "\n",
       "  Lot Shape Land Contour Utilities  ... Pool Area Pool QC  Fence Misc Feature  \\\n",
       "0       IR1          Lvl    AllPub  ...         0     NaN    NaN          NaN   \n",
       "1       Reg          Lvl    AllPub  ...         0     NaN  MnPrv          NaN   \n",
       "2       IR1          Lvl    AllPub  ...         0     NaN    NaN         Gar2   \n",
       "3       Reg          Lvl    AllPub  ...         0     NaN    NaN          NaN   \n",
       "4       IR1          Lvl    AllPub  ...         0     NaN  MnPrv          NaN   \n",
       "\n",
       "  Misc Val Mo Sold Yr Sold  Sale Type  Sale Condition  SalePrice  \n",
       "0        0       5    2010        WD           Normal     215000  \n",
       "1        0       6    2010        WD           Normal     105000  \n",
       "2    12500       6    2010        WD           Normal     172000  \n",
       "3        0       4    2010        WD           Normal     244000  \n",
       "4        0       3    2010        WD           Normal     189900  \n",
       "\n",
       "[5 rows x 81 columns]"
      ]
     },
     "execution_count": 6,
     "metadata": {},
     "output_type": "execute_result"
    }
   ],
   "source": [
    "df.head()"
   ]
  },
  {
   "cell_type": "code",
   "execution_count": 7,
   "id": "8dfa07a4",
   "metadata": {},
   "outputs": [],
   "source": [
    "df = df.drop('PID', axis=1)"
   ]
  },
  {
   "cell_type": "code",
   "execution_count": 9,
   "id": "8cd4348c",
   "metadata": {},
   "outputs": [
    {
     "data": {
      "text/plain": [
       "80"
      ]
     },
     "execution_count": 9,
     "metadata": {},
     "output_type": "execute_result"
    }
   ],
   "source": [
    "len(df.columns)"
   ]
  },
  {
   "cell_type": "code",
   "execution_count": 12,
   "id": "6d1f42d5",
   "metadata": {},
   "outputs": [
    {
     "data": {
      "text/plain": [
       "MS SubClass        0.00000\n",
       "MS Zoning          0.00000\n",
       "Lot Frontage      16.74069\n",
       "Lot Area           0.00000\n",
       "Street             0.00000\n",
       "                    ...   \n",
       "Mo Sold            0.00000\n",
       "Yr Sold            0.00000\n",
       "Sale Type          0.00000\n",
       "Sale Condition     0.00000\n",
       "SalePrice          0.00000\n",
       "Length: 80, dtype: float64"
      ]
     },
     "execution_count": 12,
     "metadata": {},
     "output_type": "execute_result"
    }
   ],
   "source": [
    "100 * df.isnull().sum() / len(df)"
   ]
  },
  {
   "cell_type": "code",
   "execution_count": 13,
   "id": "84bea5a1",
   "metadata": {},
   "outputs": [],
   "source": [
    "def percent_missing(df):\n",
    "    percent_nan = 100 * df.isnull().sum() / len(df)\n",
    "    percent_nan = percent_nan[percent_nan > 0].sort_values()\n",
    "    return percent_nan"
   ]
  },
  {
   "cell_type": "code",
   "execution_count": 14,
   "id": "0f4a3520",
   "metadata": {},
   "outputs": [],
   "source": [
    "percent_nan = percent_missing(df)"
   ]
  },
  {
   "cell_type": "code",
   "execution_count": 15,
   "id": "9258a2c5",
   "metadata": {},
   "outputs": [
    {
     "data": {
      "text/plain": [
       "Electrical         0.034165\n",
       "Garage Area        0.034165\n",
       "Total Bsmt SF      0.034165\n",
       "Bsmt Unf SF        0.034165\n",
       "BsmtFin SF 1       0.034165\n",
       "BsmtFin SF 2       0.034165\n",
       "Garage Cars        0.034165\n",
       "Bsmt Full Bath     0.068329\n",
       "Bsmt Half Bath     0.068329\n",
       "Mas Vnr Area       0.785787\n",
       "Mas Vnr Type       0.785787\n",
       "BsmtFin Type 1     2.733174\n",
       "Bsmt Qual          2.733174\n",
       "Bsmt Cond          2.733174\n",
       "BsmtFin Type 2     2.767339\n",
       "Bsmt Exposure      2.835668\n",
       "Garage Type        5.363854\n",
       "Garage Finish      5.432183\n",
       "Garage Qual        5.432183\n",
       "Garage Cond        5.432183\n",
       "Garage Yr Blt      5.432183\n",
       "Lot Frontage      16.740690\n",
       "Fireplace Qu      48.582166\n",
       "Fence             80.457807\n",
       "Alley             93.235395\n",
       "Misc Feature      96.412709\n",
       "Pool QC           99.590024\n",
       "dtype: float64"
      ]
     },
     "execution_count": 15,
     "metadata": {},
     "output_type": "execute_result"
    }
   ],
   "source": [
    "percent_nan"
   ]
  },
  {
   "cell_type": "code",
   "execution_count": 19,
   "id": "f1a51eea",
   "metadata": {},
   "outputs": [
    {
     "data": {
      "image/png": "[encoded data removed]",
      "text/plain": [
       "<Figure size 432x288 with 1 Axes>"
      ]
     },
     "metadata": {
      "needs_background": "light"
     },
     "output_type": "display_data"
    }
   ],
   "source": [
    "sns.barplot(x=percent_nan.index, y=percent_nan)\n",
    "plt.xticks(rotation=90)\n",
    "plt.ylim(0, 1)\n",
    "plt.show()"
   ]
  },
  {
   "cell_type": "code",
   "execution_count": 20,
   "id": "3b67753b",
   "metadata": {},
   "outputs": [
    {
     "data": {
      "text/plain": [
       "Electrical        0.034165\n",
       "Garage Area       0.034165\n",
       "Total Bsmt SF     0.034165\n",
       "Bsmt Unf SF       0.034165\n",
       "BsmtFin SF 1      0.034165\n",
       "BsmtFin SF 2      0.034165\n",
       "Garage Cars       0.034165\n",
       "Bsmt Full Bath    0.068329\n",
       "Bsmt Half Bath    0.068329\n",
       "Mas Vnr Area      0.785787\n",
       "Mas Vnr Type      0.785787\n",
       "dtype: float64"
      ]
     },
     "execution_count": 20,
     "metadata": {},
     "output_type": "execute_result"
    }
   ],
   "source": [
    "percent_nan[percent_nan < 1]"
   ]
  },
  {
   "cell_type": "code",
   "execution_count": 26,
   "id": "38982db6",
   "metadata": {},
   "outputs": [],
   "source": [
    "df=df.dropna(axis=0, subset=['Electrical', 'Garage Area'])"
   ]
  },
  {
   "cell_type": "code",
   "execution_count": 27,
   "id": "06c23777",
   "metadata": {},
   "outputs": [],
   "source": [
    "percent_nan = percent_missing(df)"
   ]
  },
  {
   "cell_type": "code",
   "execution_count": 28,
   "id": "8c058f38",
   "metadata": {},
   "outputs": [
    {
     "data": {
      "text/plain": [
       "Bsmt Unf SF       0.034188\n",
       "Total Bsmt SF     0.034188\n",
       "BsmtFin SF 2      0.034188\n",
       "BsmtFin SF 1      0.034188\n",
       "Bsmt Full Bath    0.068376\n",
       "Bsmt Half Bath    0.068376\n",
       "Mas Vnr Type      0.786325\n",
       "Mas Vnr Area      0.786325\n",
       "dtype: float64"
      ]
     },
     "execution_count": 28,
     "metadata": {},
     "output_type": "execute_result"
    }
   ],
   "source": [
    "percent_nan[percent_nan < 1]"
   ]
  },
  {
   "cell_type": "code",
   "execution_count": 31,
   "id": "7850124a",
   "metadata": {},
   "outputs": [
    {
     "data": {
      "text/html": [
       "<div>\n",
       "<style scoped>\n",
       "    .dataframe tbody tr th:only-of-type {\n",
       "        vertical-align: middle;\n",
       "    }\n",
       "\n",
       "    .dataframe tbody tr th {\n",
       "        vertical-align: top;\n",
       "    }\n",
       "\n",
       "    .dataframe thead th {\n",
       "        text-align: right;\n",
       "    }\n",
       "</style>\n",
       "<table border=\"1\" class=\"dataframe\">\n",
       "  <thead>\n",
       "    <tr style=\"text-align: right;\">\n",
       "      <th></th>\n",
       "      <th>MS SubClass</th>\n",
       "      <th>MS Zoning</th>\n",
       "      <th>Lot Frontage</th>\n",
       "      <th>Lot Area</th>\n",
       "      <th>Street</th>\n",
       "      <th>Alley</th>\n",
       "      <th>Lot Shape</th>\n",
       "      <th>Land Contour</th>\n",
       "      <th>Utilities</th>\n",
       "      <th>Lot Config</th>\n",
       "      <th>...</th>\n",
       "      <th>Pool Area</th>\n",
       "      <th>Pool QC</th>\n",
       "      <th>Fence</th>\n",
       "      <th>Misc Feature</th>\n",
       "      <th>Misc Val</th>\n",
       "      <th>Mo Sold</th>\n",
       "      <th>Yr Sold</th>\n",
       "      <th>Sale Type</th>\n",
       "      <th>Sale Condition</th>\n",
       "      <th>SalePrice</th>\n",
       "    </tr>\n",
       "  </thead>\n",
       "  <tbody>\n",
       "    <tr>\n",
       "      <th>1341</th>\n",
       "      <td>20</td>\n",
       "      <td>RM</td>\n",
       "      <td>99.0</td>\n",
       "      <td>5940</td>\n",
       "      <td>Pave</td>\n",
       "      <td>NaN</td>\n",
       "      <td>IR1</td>\n",
       "      <td>Lvl</td>\n",
       "      <td>AllPub</td>\n",
       "      <td>FR3</td>\n",
       "      <td>...</td>\n",
       "      <td>0</td>\n",
       "      <td>NaN</td>\n",
       "      <td>MnPrv</td>\n",
       "      <td>NaN</td>\n",
       "      <td>0</td>\n",
       "      <td>4</td>\n",
       "      <td>2008</td>\n",
       "      <td>ConLD</td>\n",
       "      <td>Abnorml</td>\n",
       "      <td>79000</td>\n",
       "    </tr>\n",
       "  </tbody>\n",
       "</table>\n",
       "<p>1 rows × 80 columns</p>\n",
       "</div>"
      ],
      "text/plain": [
       "      MS SubClass MS Zoning  Lot Frontage  Lot Area Street Alley Lot Shape  \\\n",
       "1341           20        RM          99.0      5940   Pave   NaN       IR1   \n",
       "\n",
       "     Land Contour Utilities Lot Config  ... Pool Area Pool QC  Fence  \\\n",
       "1341          Lvl    AllPub        FR3  ...         0     NaN  MnPrv   \n",
       "\n",
       "     Misc Feature Misc Val Mo Sold  Yr Sold  Sale Type  Sale Condition  \\\n",
       "1341          NaN        0       4     2008      ConLD         Abnorml   \n",
       "\n",
       "      SalePrice  \n",
       "1341      79000  \n",
       "\n",
       "[1 rows x 80 columns]"
      ]
     },
     "execution_count": 31,
     "metadata": {},
     "output_type": "execute_result"
    }
   ],
   "source": [
    "df[df['Bsmt Unf SF'].isnull()]"
   ]
  },
  {
   "cell_type": "code",
   "execution_count": 41,
   "id": "6a610327",
   "metadata": {},
   "outputs": [
    {
     "name": "stderr",
     "output_type": "stream",
     "text": [
      "/var/folders/lk/0c4x8qpx44v2mf75zt7j71b80000gn/T/ipykernel_96665/2513751517.py:3: SettingWithCopyWarning: \n",
      "A value is trying to be set on a copy of a slice from a DataFrame.\n",
      "Try using .loc[row_indexer,col_indexer] = value instead\n",
      "\n",
      "See the caveats in the documentation: https://pandas.pydata.org/pandas-docs/stable/user_guide/indexing.html#returning-a-view-versus-a-copy\n",
      "  df[bsmt_num_cols] = df[bsmt_num_cols].fillna(0)\n"
     ]
    }
   ],
   "source": [
    "# BSMT NUMERIC COLUMNS --> fill na as 0\n",
    "bsmt_num_cols = ['BsmtFin SF 1', 'BsmtFin SF 2', 'Bsmt Unf SF','Total Bsmt SF', 'Bsmt Full Bath', 'Bsmt Half Bath']\n",
    "df[bsmt_num_cols] = df[bsmt_num_cols].fillna(0)"
   ]
  },
  {
   "cell_type": "code",
   "execution_count": 42,
   "id": "17b44661",
   "metadata": {},
   "outputs": [
    {
     "name": "stderr",
     "output_type": "stream",
     "text": [
      "/var/folders/lk/0c4x8qpx44v2mf75zt7j71b80000gn/T/ipykernel_96665/1413932730.py:3: SettingWithCopyWarning: \n",
      "A value is trying to be set on a copy of a slice from a DataFrame.\n",
      "Try using .loc[row_indexer,col_indexer] = value instead\n",
      "\n",
      "See the caveats in the documentation: https://pandas.pydata.org/pandas-docs/stable/user_guide/indexing.html#returning-a-view-versus-a-copy\n",
      "  df[bsmt_str_cols] = df[bsmt_str_cols].fillna('None')\n"
     ]
    }
   ],
   "source": [
    "#BSMT STRING COLUMNS\n",
    "bsmt_str_cols =  ['Bsmt Qual', 'Bsmt Cond', 'Bsmt Exposure', 'BsmtFin Type 1', 'BsmtFin Type 2']\n",
    "df[bsmt_str_cols] = df[bsmt_str_cols].fillna('None')"
   ]
  },
  {
   "cell_type": "code",
   "execution_count": 43,
   "id": "9eccc408",
   "metadata": {},
   "outputs": [],
   "source": [
    "percent_nan = percent_missing(df)"
   ]
  },
  {
   "cell_type": "code",
   "execution_count": 44,
   "id": "f2c08441",
   "metadata": {},
   "outputs": [
    {
     "data": {
      "text/plain": [
       "Mas Vnr Type    0.786325\n",
       "Mas Vnr Area    0.786325\n",
       "dtype: float64"
      ]
     },
     "execution_count": 44,
     "metadata": {},
     "output_type": "execute_result"
    }
   ],
   "source": [
    "percent_nan[percent_nan < 1]"
   ]
  },
  {
   "cell_type": "code",
   "execution_count": 46,
   "id": "aa91801c",
   "metadata": {},
   "outputs": [
    {
     "data": {
      "image/png": "[encoded data removed]",
      "text/plain": [
       "<Figure size 432x288 with 1 Axes>"
      ]
     },
     "metadata": {
      "needs_background": "light"
     },
     "output_type": "display_data"
    }
   ],
   "source": [
    "sns.barplot(x=percent_nan.index, y=percent_nan)\n",
    "plt.xticks(rotation=90)\n",
    "plt.ylim(0, 1)\n",
    "plt.show()"
   ]
  },
  {
   "cell_type": "code",
   "execution_count": 47,
   "id": "faf180bd",
   "metadata": {},
   "outputs": [
    {
     "name": "stderr",
     "output_type": "stream",
     "text": [
      "/var/folders/lk/0c4x8qpx44v2mf75zt7j71b80000gn/T/ipykernel_96665/1369610975.py:1: SettingWithCopyWarning: \n",
      "A value is trying to be set on a copy of a slice from a DataFrame.\n",
      "Try using .loc[row_indexer,col_indexer] = value instead\n",
      "\n",
      "See the caveats in the documentation: https://pandas.pydata.org/pandas-docs/stable/user_guide/indexing.html#returning-a-view-versus-a-copy\n",
      "  df['Mas Vnr Type'] = df['Mas Vnr Type'].fillna('None')\n"
     ]
    }
   ],
   "source": [
    "df['Mas Vnr Type'] = df['Mas Vnr Type'].fillna('None')"
   ]
  },
  {
   "cell_type": "code",
   "execution_count": 48,
   "id": "7c399d86",
   "metadata": {},
   "outputs": [
    {
     "name": "stderr",
     "output_type": "stream",
     "text": [
      "/var/folders/lk/0c4x8qpx44v2mf75zt7j71b80000gn/T/ipykernel_96665/4149939292.py:1: SettingWithCopyWarning: \n",
      "A value is trying to be set on a copy of a slice from a DataFrame.\n",
      "Try using .loc[row_indexer,col_indexer] = value instead\n",
      "\n",
      "See the caveats in the documentation: https://pandas.pydata.org/pandas-docs/stable/user_guide/indexing.html#returning-a-view-versus-a-copy\n",
      "  df['Mas Vnr Area'] = df['Mas Vnr Area'].fillna(0)\n"
     ]
    }
   ],
   "source": [
    "df['Mas Vnr Area'] = df['Mas Vnr Area'].fillna(0)"
   ]
  },
  {
   "cell_type": "code",
   "execution_count": 49,
   "id": "489b3dd9",
   "metadata": {},
   "outputs": [],
   "source": [
    "percent_nan = percent_missing(df)"
   ]
  },
  {
   "cell_type": "code",
   "execution_count": 50,
   "id": "b91df7e6",
   "metadata": {},
   "outputs": [
    {
     "data": {
      "image/png": "[encoded data removed]",
      "text/plain": [
       "<Figure size 432x288 with 1 Axes>"
      ]
     },
     "metadata": {
      "needs_background": "light"
     },
     "output_type": "display_data"
    }
   ],
   "source": [
    "sns.barplot(x=percent_nan.index, y=percent_nan)\n",
    "plt.xticks(rotation=90)\n",
    "plt.show()"
   ]
  },
  {
   "cell_type": "code",
   "execution_count": 51,
   "id": "4c4f9d2c",
   "metadata": {},
   "outputs": [],
   "source": [
    "gar_str_cols = ['Garage Type', 'Garage Finish', 'Garage Qual', 'Garage Cond']"
   ]
  },
  {
   "cell_type": "code",
   "execution_count": 52,
   "id": "290fccfa",
   "metadata": {},
   "outputs": [
    {
     "name": "stderr",
     "output_type": "stream",
     "text": [
      "/var/folders/lk/0c4x8qpx44v2mf75zt7j71b80000gn/T/ipykernel_96665/3382235290.py:1: SettingWithCopyWarning: \n",
      "A value is trying to be set on a copy of a slice from a DataFrame.\n",
      "Try using .loc[row_indexer,col_indexer] = value instead\n",
      "\n",
      "See the caveats in the documentation: https://pandas.pydata.org/pandas-docs/stable/user_guide/indexing.html#returning-a-view-versus-a-copy\n",
      "  df[gar_str_cols] = df[gar_str_cols].fillna('None')\n"
     ]
    }
   ],
   "source": [
    "df[gar_str_cols] = df[gar_str_cols].fillna('None')"
   ]
  },
  {
   "cell_type": "code",
   "execution_count": 54,
   "id": "f034059c",
   "metadata": {},
   "outputs": [
    {
     "data": {
      "image/png": "[encoded data removed]",
      "text/plain": [
       "<Figure size 432x288 with 1 Axes>"
      ]
     },
     "metadata": {
      "needs_background": "light"
     },
     "output_type": "display_data"
    }
   ],
   "source": [
    "percent_nan = percent_missing(df)\n",
    "sns.barplot(x=percent_nan.index, y=percent_nan)\n",
    "plt.xticks(rotation=90)\n",
    "plt.show()"
   ]
  },
  {
   "cell_type": "code",
   "execution_count": 55,
   "id": "fa1a3e82",
   "metadata": {},
   "outputs": [
    {
     "name": "stderr",
     "output_type": "stream",
     "text": [
      "/var/folders/lk/0c4x8qpx44v2mf75zt7j71b80000gn/T/ipykernel_96665/1710577415.py:1: SettingWithCopyWarning: \n",
      "A value is trying to be set on a copy of a slice from a DataFrame.\n",
      "Try using .loc[row_indexer,col_indexer] = value instead\n",
      "\n",
      "See the caveats in the documentation: https://pandas.pydata.org/pandas-docs/stable/user_guide/indexing.html#returning-a-view-versus-a-copy\n",
      "  df['Garage Yr Blt'] = df['Garage Yr Blt'].fillna(0)\n"
     ]
    }
   ],
   "source": [
    "df['Garage Yr Blt'] = df['Garage Yr Blt'].fillna(0)"
   ]
  },
  {
   "cell_type": "code",
   "execution_count": 56,
   "id": "9a49f76b",
   "metadata": {},
   "outputs": [
    {
     "data": {
      "image/png": "[encoded data removed]",
      "text/plain": [
       "<Figure size 432x288 with 1 Axes>"
      ]
     },
     "metadata": {
      "needs_background": "light"
     },
     "output_type": "display_data"
    }
   ],
   "source": [
    "percent_nan = percent_missing(df)\n",
    "sns.barplot(x=percent_nan.index, y=percent_nan)\n",
    "plt.xticks(rotation=90)\n",
    "plt.show()"
   ]
  },
  {
   "cell_type": "code",
   "execution_count": 57,
   "id": "f2ecb6e7",
   "metadata": {},
   "outputs": [],
   "source": [
    "df = df.drop(['Pool QC', 'Misc Feature', 'Alley', 'Fence'], axis=1)"
   ]
  },
  {
   "cell_type": "code",
   "execution_count": 59,
   "id": "dd85050f",
   "metadata": {},
   "outputs": [
    {
     "data": {
      "image/png": "[encoded data removed]",
      "text/plain": [
       "<Figure size 432x288 with 1 Axes>"
      ]
     },
     "metadata": {
      "needs_background": "light"
     },
     "output_type": "display_data"
    }
   ],
   "source": [
    "percent_nan = percent_missing(df)\n",
    "sns.barplot(x=percent_nan.index, y=percent_nan)\n",
    "plt.xticks(rotation=90)\n",
    "plt.show()"
   ]
  },
  {
   "cell_type": "code",
   "execution_count": 60,
   "id": "c2c879eb",
   "metadata": {},
   "outputs": [],
   "source": [
    "df['Fireplace Qu'] = df['Fireplace Qu'].fillna('None')"
   ]
  },
  {
   "cell_type": "code",
   "execution_count": 61,
   "id": "18172ea7",
   "metadata": {},
   "outputs": [
    {
     "data": {
      "image/png": "[encoded data removed]",
      "text/plain": [
       "<Figure size 432x288 with 1 Axes>"
      ]
     },
     "metadata": {
      "needs_background": "light"
     },
     "output_type": "display_data"
    }
   ],
   "source": [
    "percent_nan = percent_missing(df)\n",
    "sns.barplot(x=percent_nan.index, y=percent_nan)\n",
    "plt.xticks(rotation=90)\n",
    "plt.show()"
   ]
  },
  {
   "cell_type": "code",
   "execution_count": 62,
   "id": "5541edce",
   "metadata": {},
   "outputs": [
    {
     "data": {
      "text/plain": [
       "0       141.0\n",
       "1        80.0\n",
       "2        81.0\n",
       "3        93.0\n",
       "4        74.0\n",
       "        ...  \n",
       "2922     37.0\n",
       "2923      NaN\n",
       "2924     62.0\n",
       "2925     77.0\n",
       "2926     74.0\n",
       "Name: Lot Frontage, Length: 2925, dtype: float64"
      ]
     },
     "execution_count": 62,
     "metadata": {},
     "output_type": "execute_result"
    }
   ],
   "source": [
    "df['Lot Frontage']"
   ]
  },
  {
   "cell_type": "code",
   "execution_count": 63,
   "id": "eec1909f",
   "metadata": {},
   "outputs": [
    {
     "data": {
      "text/plain": [
       "<AxesSubplot:xlabel='Lot Frontage', ylabel='Neighborhood'>"
      ]
     },
     "execution_count": 63,
     "metadata": {},
     "output_type": "execute_result"
    },
    {
     "data": {
      "image/png": "[encoded data removed]",
      "text/plain": [
       "<Figure size 432x288 with 1 Axes>"
      ]
     },
     "metadata": {
      "needs_background": "light"
     },
     "output_type": "display_data"
    }
   ],
   "source": [
    "sns.boxplot(x='Lot Frontage', y = 'Neighborhood', data=df)"
   ]
  },
  {
   "cell_type": "code",
   "execution_count": 64,
   "id": "8c17dbcf",
   "metadata": {},
   "outputs": [
    {
     "data": {
      "text/plain": [
       "Neighborhood\n",
       "Blmngtn    46.900000\n",
       "Blueste    27.300000\n",
       "BrDale     21.500000\n",
       "BrkSide    55.789474\n",
       "ClearCr    88.150000\n",
       "CollgCr    71.336364\n",
       "Crawfor    69.951807\n",
       "Edwards    64.794286\n",
       "Gilbert    74.207207\n",
       "Greens     41.000000\n",
       "GrnHill          NaN\n",
       "IDOTRR     62.383721\n",
       "Landmrk          NaN\n",
       "MeadowV    25.606061\n",
       "Mitchel    75.144444\n",
       "NAmes      75.210667\n",
       "NPkVill    28.142857\n",
       "NWAmes     81.517647\n",
       "NoRidge    91.629630\n",
       "NridgHt    84.184049\n",
       "OldTown    61.777293\n",
       "SWISU      59.068182\n",
       "Sawyer     74.551020\n",
       "SawyerW    70.669811\n",
       "Somerst    64.549383\n",
       "StoneBr    62.173913\n",
       "Timber     81.303571\n",
       "Veenker    72.000000\n",
       "Name: Lot Frontage, dtype: float64"
      ]
     },
     "execution_count": 64,
     "metadata": {},
     "output_type": "execute_result"
    }
   ],
   "source": [
    "df.groupby('Neighborhood')['Lot Frontage'].mean()"
   ]
  },
  {
   "cell_type": "code",
   "execution_count": 66,
   "id": "9fbafb77",
   "metadata": {},
   "outputs": [],
   "source": [
    "df['Lot Frontage'] = df.groupby('Neighborhood')['Lot Frontage'].transform(lambda value:value.fillna(value.mean()))"
   ]
  },
  {
   "cell_type": "code",
   "execution_count": 68,
   "id": "3207de76",
   "metadata": {},
   "outputs": [
    {
     "data": {
      "text/plain": [
       "Lot Frontage    0.102564\n",
       "dtype: float64"
      ]
     },
     "execution_count": 68,
     "metadata": {},
     "output_type": "execute_result"
    }
   ],
   "source": [
    "percent_nan = percent_missing(df)\n",
    "percent_nan"
   ]
  },
  {
   "cell_type": "code",
   "execution_count": 69,
   "id": "616a5d9b",
   "metadata": {},
   "outputs": [],
   "source": [
    "df['Lot Frontage'] = df['Lot Frontage'].fillna(0)"
   ]
  },
  {
   "cell_type": "code",
   "execution_count": 70,
   "id": "cdd3d83d",
   "metadata": {},
   "outputs": [
    {
     "data": {
      "text/plain": [
       "Series([], dtype: float64)"
      ]
     },
     "execution_count": 70,
     "metadata": {},
     "output_type": "execute_result"
    }
   ],
   "source": [
    "percent_nan = percent_missing(df)\n",
    "percent_nan"
   ]
  },
  {
   "cell_type": "code",
   "execution_count": null,
   "id": "e2f11a73",
   "metadata": {},
   "outputs": [],
   "source": []
  }
 ],
 "metadata": {
  "kernelspec": {
   "display_name": "Python 3 (ipykernel)",
   "language": "python",
   "name": "python3"
  },
  "language_info": {
   "codemirror_mode": {
    "name": "ipython",
    "version": 3
   },
   "file_extension": ".py",
   "mimetype": "text/x-python",
   "name": "python",
   "nbconvert_exporter": "python",
   "pygments_lexer": "ipython3",
   "version": "3.9.12"
  }
 },
 "nbformat": 4,
 "nbformat_minor": 5
}
